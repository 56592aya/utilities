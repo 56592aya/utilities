{
 "metadata": {
  "language_info": {
   "codemirror_mode": {
    "name": "ipython",
    "version": 3
   },
   "file_extension": ".py",
   "mimetype": "text/x-python",
   "name": "python",
   "nbconvert_exporter": "python",
   "pygments_lexer": "ipython3",
   "version": "3.8.5-final"
  },
  "orig_nbformat": 2,
  "kernelspec": {
   "name": "python3",
   "display_name": "Python 3.8.5 64-bit ('utilities': conda)",
   "metadata": {
    "interpreter": {
     "hash": "1f52b19b77d3e2ca2f1eed96fed39bbb63130d5121dfbb414e8d3589f28b959d"
    }
   }
  }
 },
 "nbformat": 4,
 "nbformat_minor": 2,
 "cells": [
  {
   "cell_type": "code",
   "execution_count": 2,
   "metadata": {},
   "outputs": [
    {
     "output_type": "execute_result",
     "data": {
      "text/plain": [
       "        num_1  num_2 cat_1 cat_2 cat_3 cat_4  var_5                var_6\n",
       "0   -1.248514    122     d     h     k     v   True        [10, s, 2, 1]\n",
       "1   -0.564536    150     b     g     j     2   True        [10, s, 2, 1]\n",
       "2   -1.929897    517     a     g     k     u   True  [50, 50, 0.2, q, w]\n",
       "3   -0.345201    272     b     g     k     l   True        [10, s, 2, 1]\n",
       "4   -0.187343    877     b     h     j     q  False  [50, 50, 0.2, q, w]\n",
       "..        ...    ...   ...   ...   ...   ...    ...                  ...\n",
       "995 -1.379873    158     a     h     k     w   True        [10, s, 2, 1]\n",
       "996 -0.443466    568     f     g     j     p   True  [50, 50, 0.2, q, w]\n",
       "997 -0.920531    111     e     h     k     r  False  [50, 50, 0.2, q, w]\n",
       "998 -0.676125    485     a     g     k     1  False  [50, 50, 0.2, q, w]\n",
       "999  1.522605    555     e     h     j     p   True  [50, 50, 0.2, q, w]\n",
       "\n",
       "[1000 rows x 8 columns]"
      ],
      "text/html": "<div>\n<style scoped>\n    .dataframe tbody tr th:only-of-type {\n        vertical-align: middle;\n    }\n\n    .dataframe tbody tr th {\n        vertical-align: top;\n    }\n\n    .dataframe thead th {\n        text-align: right;\n    }\n</style>\n<table border=\"1\" class=\"dataframe\">\n  <thead>\n    <tr style=\"text-align: right;\">\n      <th></th>\n      <th>num_1</th>\n      <th>num_2</th>\n      <th>cat_1</th>\n      <th>cat_2</th>\n      <th>cat_3</th>\n      <th>cat_4</th>\n      <th>var_5</th>\n      <th>var_6</th>\n    </tr>\n  </thead>\n  <tbody>\n    <tr>\n      <th>0</th>\n      <td>-1.248514</td>\n      <td>122</td>\n      <td>d</td>\n      <td>h</td>\n      <td>k</td>\n      <td>v</td>\n      <td>True</td>\n      <td>[10, s, 2, 1]</td>\n    </tr>\n    <tr>\n      <th>1</th>\n      <td>-0.564536</td>\n      <td>150</td>\n      <td>b</td>\n      <td>g</td>\n      <td>j</td>\n      <td>2</td>\n      <td>True</td>\n      <td>[10, s, 2, 1]</td>\n    </tr>\n    <tr>\n      <th>2</th>\n      <td>-1.929897</td>\n      <td>517</td>\n      <td>a</td>\n      <td>g</td>\n      <td>k</td>\n      <td>u</td>\n      <td>True</td>\n      <td>[50, 50, 0.2, q, w]</td>\n    </tr>\n    <tr>\n      <th>3</th>\n      <td>-0.345201</td>\n      <td>272</td>\n      <td>b</td>\n      <td>g</td>\n      <td>k</td>\n      <td>l</td>\n      <td>True</td>\n      <td>[10, s, 2, 1]</td>\n    </tr>\n    <tr>\n      <th>4</th>\n      <td>-0.187343</td>\n      <td>877</td>\n      <td>b</td>\n      <td>h</td>\n      <td>j</td>\n      <td>q</td>\n      <td>False</td>\n      <td>[50, 50, 0.2, q, w]</td>\n    </tr>\n    <tr>\n      <th>...</th>\n      <td>...</td>\n      <td>...</td>\n      <td>...</td>\n      <td>...</td>\n      <td>...</td>\n      <td>...</td>\n      <td>...</td>\n      <td>...</td>\n    </tr>\n    <tr>\n      <th>995</th>\n      <td>-1.379873</td>\n      <td>158</td>\n      <td>a</td>\n      <td>h</td>\n      <td>k</td>\n      <td>w</td>\n      <td>True</td>\n      <td>[10, s, 2, 1]</td>\n    </tr>\n    <tr>\n      <th>996</th>\n      <td>-0.443466</td>\n      <td>568</td>\n      <td>f</td>\n      <td>g</td>\n      <td>j</td>\n      <td>p</td>\n      <td>True</td>\n      <td>[50, 50, 0.2, q, w]</td>\n    </tr>\n    <tr>\n      <th>997</th>\n      <td>-0.920531</td>\n      <td>111</td>\n      <td>e</td>\n      <td>h</td>\n      <td>k</td>\n      <td>r</td>\n      <td>False</td>\n      <td>[50, 50, 0.2, q, w]</td>\n    </tr>\n    <tr>\n      <th>998</th>\n      <td>-0.676125</td>\n      <td>485</td>\n      <td>a</td>\n      <td>g</td>\n      <td>k</td>\n      <td>1</td>\n      <td>False</td>\n      <td>[50, 50, 0.2, q, w]</td>\n    </tr>\n    <tr>\n      <th>999</th>\n      <td>1.522605</td>\n      <td>555</td>\n      <td>e</td>\n      <td>h</td>\n      <td>j</td>\n      <td>p</td>\n      <td>True</td>\n      <td>[50, 50, 0.2, q, w]</td>\n    </tr>\n  </tbody>\n</table>\n<p>1000 rows × 8 columns</p>\n</div>"
     },
     "metadata": {},
     "execution_count": 2
    }
   ],
   "source": [
    "import pandas as pd\n",
    "import numpy as np\n",
    "import random\n",
    "from feature_utils import FeatureSelector, ColumnFeature\n",
    "\n",
    "df = pd.DataFrame(\n",
    "\n",
    "    {\n",
    "        'num_1' : np.random.randn(1000),\n",
    "        'num_2' : np.random.randint(0, 1000, 1000),\n",
    "        'cat_1' : random.choices('abcdef', k=1000),\n",
    "        'cat_2' : random.choices('gh', k=1000, weights = [.2, .8]),\n",
    "        'cat_3' : random.choices('ijk', k=1000, weights = [0.05, .45, .50]),\n",
    "        'cat_4' : random.choices('lmnopqrstuvwxyz0123456789', k=1000),\n",
    "        'var_5' : random.choices([True, False], k=1000),\n",
    "        'var_6' : random.choices([[10, 's', '2', 1], [50, 50, .2, 'q', 'w']], k=1000)\n",
    "        }\n",
    ")\n",
    "df"
   ]
  },
  {
   "cell_type": "code",
   "execution_count": 4,
   "metadata": {},
   "outputs": [
    {
     "output_type": "execute_result",
     "data": {
      "text/plain": [
       "        num_1  num_2  var_5\n",
       "0   -1.248514    122   True\n",
       "1   -0.564536    150   True\n",
       "2   -1.929897    517   True\n",
       "3   -0.345201    272   True\n",
       "4   -0.187343    877  False\n",
       "..        ...    ...    ...\n",
       "995 -1.379873    158   True\n",
       "996 -0.443466    568   True\n",
       "997 -0.920531    111  False\n",
       "998 -0.676125    485  False\n",
       "999  1.522605    555   True\n",
       "\n",
       "[1000 rows x 3 columns]"
      ],
      "text/html": "<div>\n<style scoped>\n    .dataframe tbody tr th:only-of-type {\n        vertical-align: middle;\n    }\n\n    .dataframe tbody tr th {\n        vertical-align: top;\n    }\n\n    .dataframe thead th {\n        text-align: right;\n    }\n</style>\n<table border=\"1\" class=\"dataframe\">\n  <thead>\n    <tr style=\"text-align: right;\">\n      <th></th>\n      <th>num_1</th>\n      <th>num_2</th>\n      <th>var_5</th>\n    </tr>\n  </thead>\n  <tbody>\n    <tr>\n      <th>0</th>\n      <td>-1.248514</td>\n      <td>122</td>\n      <td>True</td>\n    </tr>\n    <tr>\n      <th>1</th>\n      <td>-0.564536</td>\n      <td>150</td>\n      <td>True</td>\n    </tr>\n    <tr>\n      <th>2</th>\n      <td>-1.929897</td>\n      <td>517</td>\n      <td>True</td>\n    </tr>\n    <tr>\n      <th>3</th>\n      <td>-0.345201</td>\n      <td>272</td>\n      <td>True</td>\n    </tr>\n    <tr>\n      <th>4</th>\n      <td>-0.187343</td>\n      <td>877</td>\n      <td>False</td>\n    </tr>\n    <tr>\n      <th>...</th>\n      <td>...</td>\n      <td>...</td>\n      <td>...</td>\n    </tr>\n    <tr>\n      <th>995</th>\n      <td>-1.379873</td>\n      <td>158</td>\n      <td>True</td>\n    </tr>\n    <tr>\n      <th>996</th>\n      <td>-0.443466</td>\n      <td>568</td>\n      <td>True</td>\n    </tr>\n    <tr>\n      <th>997</th>\n      <td>-0.920531</td>\n      <td>111</td>\n      <td>False</td>\n    </tr>\n    <tr>\n      <th>998</th>\n      <td>-0.676125</td>\n      <td>485</td>\n      <td>False</td>\n    </tr>\n    <tr>\n      <th>999</th>\n      <td>1.522605</td>\n      <td>555</td>\n      <td>True</td>\n    </tr>\n  </tbody>\n</table>\n<p>1000 rows × 3 columns</p>\n</div>"
     },
     "metadata": {},
     "execution_count": 4
    }
   ],
   "source": [
    "fs_num = FeatureSelector('numeric')\n",
    "fs_num.fit_transform(df)"
   ]
  },
  {
   "cell_type": "code",
   "execution_count": 3,
   "metadata": {},
   "outputs": [
    {
     "output_type": "execute_result",
     "data": {
      "text/plain": [
       "0     -2.497028\n",
       "1     -1.129072\n",
       "2     -3.859794\n",
       "3     -0.690402\n",
       "4     -0.374687\n",
       "         ...   \n",
       "995   -2.759746\n",
       "996   -0.886933\n",
       "997   -1.841063\n",
       "998   -1.352250\n",
       "999    3.045210\n",
       "Name: num_1, Length: 1000, dtype: float64"
      ]
     },
     "metadata": {},
     "execution_count": 3
    }
   ],
   "source": [
    "def multiply_by_2(x):\n",
    "    return x * 2\n",
    "\n",
    "cf_m2 = ColumnFeature(multiply_by_2)\n",
    "\n",
    "cf_m2.fit_transform(df['num_1'])"
   ]
  }
 ]
}